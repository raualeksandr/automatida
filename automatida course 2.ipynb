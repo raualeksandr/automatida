{
 "cells": [
  {
   "cell_type": "markdown",
   "id": "8f10ece0",
   "metadata": {},
   "source": [
    "#  Get Started with Python"
   ]
  },
  {
   "cell_type": "markdown",
   "id": "4f33327f",
   "metadata": {},
   "source": [
    "The purpose of this project is to investigate and understand the data provided.\n",
    "\n",
    "The goal is to use a dataframe contructed within Python, perform a cursory inspection of the provided dataset."
   ]
  },
  {
   "cell_type": "markdown",
   "id": "3db4586f",
   "metadata": {},
   "source": [
    "Let's begin with importing packages and data."
   ]
  },
  {
   "cell_type": "code",
   "execution_count": 1,
   "id": "0ed125b8",
   "metadata": {},
   "outputs": [],
   "source": [
    "import pandas as pd\n",
    "import numpy as np\n",
    "\n",
    "df = pd.read_csv('C:/Users/alexa/Desktop/Portfolio projects/Automatida/2017_Yellow_Taxi_Trip_Data.csv')"
   ]
  },
  {
   "cell_type": "markdown",
   "id": "94f9d542",
   "metadata": {},
   "source": [
    "### Understand the data - Investigate the variables"
   ]
  },
  {
   "cell_type": "markdown",
   "id": "337a7c7c",
   "metadata": {},
   "source": [
    "Sort and interpret the data table for two variables:trip_distance and total_amount."
   ]
  },
  {
   "cell_type": "code",
   "execution_count": 2,
   "id": "397aa782",
   "metadata": {},
   "outputs": [
    {
     "data": {
      "text/html": [
       "<div>\n",
       "<style scoped>\n",
       "    .dataframe tbody tr th:only-of-type {\n",
       "        vertical-align: middle;\n",
       "    }\n",
       "\n",
       "    .dataframe tbody tr th {\n",
       "        vertical-align: top;\n",
       "    }\n",
       "\n",
       "    .dataframe thead th {\n",
       "        text-align: right;\n",
       "    }\n",
       "</style>\n",
       "<table border=\"1\" class=\"dataframe\">\n",
       "  <thead>\n",
       "    <tr style=\"text-align: right;\">\n",
       "      <th></th>\n",
       "      <th>Unnamed: 0</th>\n",
       "      <th>VendorID</th>\n",
       "      <th>tpep_pickup_datetime</th>\n",
       "      <th>tpep_dropoff_datetime</th>\n",
       "      <th>passenger_count</th>\n",
       "      <th>trip_distance</th>\n",
       "      <th>RatecodeID</th>\n",
       "      <th>store_and_fwd_flag</th>\n",
       "      <th>PULocationID</th>\n",
       "      <th>DOLocationID</th>\n",
       "      <th>payment_type</th>\n",
       "      <th>fare_amount</th>\n",
       "      <th>extra</th>\n",
       "      <th>mta_tax</th>\n",
       "      <th>tip_amount</th>\n",
       "      <th>tolls_amount</th>\n",
       "      <th>improvement_surcharge</th>\n",
       "      <th>total_amount</th>\n",
       "    </tr>\n",
       "  </thead>\n",
       "  <tbody>\n",
       "    <tr>\n",
       "      <th>9280</th>\n",
       "      <td>51810714</td>\n",
       "      <td>2</td>\n",
       "      <td>06/18/2017 11:33:25 PM</td>\n",
       "      <td>06/19/2017 12:12:38 AM</td>\n",
       "      <td>2</td>\n",
       "      <td>33.96</td>\n",
       "      <td>5</td>\n",
       "      <td>N</td>\n",
       "      <td>132</td>\n",
       "      <td>265</td>\n",
       "      <td>2</td>\n",
       "      <td>150.00</td>\n",
       "      <td>0.0</td>\n",
       "      <td>0.0</td>\n",
       "      <td>0.00</td>\n",
       "      <td>0.00</td>\n",
       "      <td>0.3</td>\n",
       "      <td>150.30</td>\n",
       "    </tr>\n",
       "    <tr>\n",
       "      <th>13861</th>\n",
       "      <td>40523668</td>\n",
       "      <td>2</td>\n",
       "      <td>05/19/2017 8:20:21 AM</td>\n",
       "      <td>05/19/2017 9:20:30 AM</td>\n",
       "      <td>1</td>\n",
       "      <td>33.92</td>\n",
       "      <td>5</td>\n",
       "      <td>N</td>\n",
       "      <td>229</td>\n",
       "      <td>265</td>\n",
       "      <td>1</td>\n",
       "      <td>200.01</td>\n",
       "      <td>0.0</td>\n",
       "      <td>0.5</td>\n",
       "      <td>51.64</td>\n",
       "      <td>5.76</td>\n",
       "      <td>0.3</td>\n",
       "      <td>258.21</td>\n",
       "    </tr>\n",
       "    <tr>\n",
       "      <th>6064</th>\n",
       "      <td>49894023</td>\n",
       "      <td>2</td>\n",
       "      <td>06/13/2017 12:30:22 PM</td>\n",
       "      <td>06/13/2017 1:37:51 PM</td>\n",
       "      <td>1</td>\n",
       "      <td>32.72</td>\n",
       "      <td>3</td>\n",
       "      <td>N</td>\n",
       "      <td>138</td>\n",
       "      <td>1</td>\n",
       "      <td>1</td>\n",
       "      <td>107.00</td>\n",
       "      <td>0.0</td>\n",
       "      <td>0.0</td>\n",
       "      <td>55.50</td>\n",
       "      <td>16.26</td>\n",
       "      <td>0.3</td>\n",
       "      <td>179.06</td>\n",
       "    </tr>\n",
       "    <tr>\n",
       "      <th>10291</th>\n",
       "      <td>76319330</td>\n",
       "      <td>2</td>\n",
       "      <td>09/11/2017 11:41:04 AM</td>\n",
       "      <td>09/11/2017 12:18:58 PM</td>\n",
       "      <td>1</td>\n",
       "      <td>31.95</td>\n",
       "      <td>4</td>\n",
       "      <td>N</td>\n",
       "      <td>138</td>\n",
       "      <td>265</td>\n",
       "      <td>2</td>\n",
       "      <td>131.00</td>\n",
       "      <td>0.0</td>\n",
       "      <td>0.5</td>\n",
       "      <td>0.00</td>\n",
       "      <td>0.00</td>\n",
       "      <td>0.3</td>\n",
       "      <td>131.80</td>\n",
       "    </tr>\n",
       "    <tr>\n",
       "      <th>29</th>\n",
       "      <td>94052446</td>\n",
       "      <td>2</td>\n",
       "      <td>11/06/2017 8:30:50 PM</td>\n",
       "      <td>11/07/2017 12:00:00 AM</td>\n",
       "      <td>1</td>\n",
       "      <td>30.83</td>\n",
       "      <td>1</td>\n",
       "      <td>N</td>\n",
       "      <td>132</td>\n",
       "      <td>23</td>\n",
       "      <td>1</td>\n",
       "      <td>80.00</td>\n",
       "      <td>0.5</td>\n",
       "      <td>0.5</td>\n",
       "      <td>18.56</td>\n",
       "      <td>11.52</td>\n",
       "      <td>0.3</td>\n",
       "      <td>111.38</td>\n",
       "    </tr>\n",
       "    <tr>\n",
       "      <th>18130</th>\n",
       "      <td>90375786</td>\n",
       "      <td>1</td>\n",
       "      <td>10/26/2017 2:45:01 PM</td>\n",
       "      <td>10/26/2017 4:12:49 PM</td>\n",
       "      <td>1</td>\n",
       "      <td>30.50</td>\n",
       "      <td>1</td>\n",
       "      <td>N</td>\n",
       "      <td>132</td>\n",
       "      <td>220</td>\n",
       "      <td>1</td>\n",
       "      <td>90.50</td>\n",
       "      <td>0.0</td>\n",
       "      <td>0.5</td>\n",
       "      <td>19.85</td>\n",
       "      <td>8.16</td>\n",
       "      <td>0.3</td>\n",
       "      <td>119.31</td>\n",
       "    </tr>\n",
       "    <tr>\n",
       "      <th>5792</th>\n",
       "      <td>68023798</td>\n",
       "      <td>2</td>\n",
       "      <td>08/11/2017 2:14:01 PM</td>\n",
       "      <td>08/11/2017 3:17:31 PM</td>\n",
       "      <td>1</td>\n",
       "      <td>30.33</td>\n",
       "      <td>2</td>\n",
       "      <td>N</td>\n",
       "      <td>132</td>\n",
       "      <td>158</td>\n",
       "      <td>1</td>\n",
       "      <td>52.00</td>\n",
       "      <td>0.0</td>\n",
       "      <td>0.5</td>\n",
       "      <td>14.64</td>\n",
       "      <td>5.76</td>\n",
       "      <td>0.3</td>\n",
       "      <td>73.20</td>\n",
       "    </tr>\n",
       "    <tr>\n",
       "      <th>15350</th>\n",
       "      <td>77309977</td>\n",
       "      <td>2</td>\n",
       "      <td>09/14/2017 1:44:44 PM</td>\n",
       "      <td>09/14/2017 2:34:29 PM</td>\n",
       "      <td>1</td>\n",
       "      <td>28.23</td>\n",
       "      <td>2</td>\n",
       "      <td>N</td>\n",
       "      <td>13</td>\n",
       "      <td>132</td>\n",
       "      <td>1</td>\n",
       "      <td>52.00</td>\n",
       "      <td>0.0</td>\n",
       "      <td>0.5</td>\n",
       "      <td>4.40</td>\n",
       "      <td>5.76</td>\n",
       "      <td>0.3</td>\n",
       "      <td>62.96</td>\n",
       "    </tr>\n",
       "    <tr>\n",
       "      <th>10302</th>\n",
       "      <td>43431843</td>\n",
       "      <td>1</td>\n",
       "      <td>05/15/2017 8:11:34 AM</td>\n",
       "      <td>05/15/2017 9:03:16 AM</td>\n",
       "      <td>1</td>\n",
       "      <td>28.20</td>\n",
       "      <td>2</td>\n",
       "      <td>N</td>\n",
       "      <td>90</td>\n",
       "      <td>132</td>\n",
       "      <td>1</td>\n",
       "      <td>52.00</td>\n",
       "      <td>0.0</td>\n",
       "      <td>0.5</td>\n",
       "      <td>11.71</td>\n",
       "      <td>5.76</td>\n",
       "      <td>0.3</td>\n",
       "      <td>70.27</td>\n",
       "    </tr>\n",
       "    <tr>\n",
       "      <th>2592</th>\n",
       "      <td>51094874</td>\n",
       "      <td>2</td>\n",
       "      <td>06/16/2017 6:51:20 PM</td>\n",
       "      <td>06/16/2017 7:41:42 PM</td>\n",
       "      <td>1</td>\n",
       "      <td>27.97</td>\n",
       "      <td>2</td>\n",
       "      <td>N</td>\n",
       "      <td>261</td>\n",
       "      <td>132</td>\n",
       "      <td>2</td>\n",
       "      <td>52.00</td>\n",
       "      <td>4.5</td>\n",
       "      <td>0.5</td>\n",
       "      <td>0.00</td>\n",
       "      <td>5.76</td>\n",
       "      <td>0.3</td>\n",
       "      <td>63.06</td>\n",
       "    </tr>\n",
       "  </tbody>\n",
       "</table>\n",
       "</div>"
      ],
      "text/plain": [
       "       Unnamed: 0  VendorID    tpep_pickup_datetime   tpep_dropoff_datetime  \\\n",
       "9280     51810714         2  06/18/2017 11:33:25 PM  06/19/2017 12:12:38 AM   \n",
       "13861    40523668         2   05/19/2017 8:20:21 AM   05/19/2017 9:20:30 AM   \n",
       "6064     49894023         2  06/13/2017 12:30:22 PM   06/13/2017 1:37:51 PM   \n",
       "10291    76319330         2  09/11/2017 11:41:04 AM  09/11/2017 12:18:58 PM   \n",
       "29       94052446         2   11/06/2017 8:30:50 PM  11/07/2017 12:00:00 AM   \n",
       "18130    90375786         1   10/26/2017 2:45:01 PM   10/26/2017 4:12:49 PM   \n",
       "5792     68023798         2   08/11/2017 2:14:01 PM   08/11/2017 3:17:31 PM   \n",
       "15350    77309977         2   09/14/2017 1:44:44 PM   09/14/2017 2:34:29 PM   \n",
       "10302    43431843         1   05/15/2017 8:11:34 AM   05/15/2017 9:03:16 AM   \n",
       "2592     51094874         2   06/16/2017 6:51:20 PM   06/16/2017 7:41:42 PM   \n",
       "\n",
       "       passenger_count  trip_distance  RatecodeID store_and_fwd_flag  \\\n",
       "9280                 2          33.96           5                  N   \n",
       "13861                1          33.92           5                  N   \n",
       "6064                 1          32.72           3                  N   \n",
       "10291                1          31.95           4                  N   \n",
       "29                   1          30.83           1                  N   \n",
       "18130                1          30.50           1                  N   \n",
       "5792                 1          30.33           2                  N   \n",
       "15350                1          28.23           2                  N   \n",
       "10302                1          28.20           2                  N   \n",
       "2592                 1          27.97           2                  N   \n",
       "\n",
       "       PULocationID  DOLocationID  payment_type  fare_amount  extra  mta_tax  \\\n",
       "9280            132           265             2       150.00    0.0      0.0   \n",
       "13861           229           265             1       200.01    0.0      0.5   \n",
       "6064            138             1             1       107.00    0.0      0.0   \n",
       "10291           138           265             2       131.00    0.0      0.5   \n",
       "29              132            23             1        80.00    0.5      0.5   \n",
       "18130           132           220             1        90.50    0.0      0.5   \n",
       "5792            132           158             1        52.00    0.0      0.5   \n",
       "15350            13           132             1        52.00    0.0      0.5   \n",
       "10302            90           132             1        52.00    0.0      0.5   \n",
       "2592            261           132             2        52.00    4.5      0.5   \n",
       "\n",
       "       tip_amount  tolls_amount  improvement_surcharge  total_amount  \n",
       "9280         0.00          0.00                    0.3        150.30  \n",
       "13861       51.64          5.76                    0.3        258.21  \n",
       "6064        55.50         16.26                    0.3        179.06  \n",
       "10291        0.00          0.00                    0.3        131.80  \n",
       "29          18.56         11.52                    0.3        111.38  \n",
       "18130       19.85          8.16                    0.3        119.31  \n",
       "5792        14.64          5.76                    0.3         73.20  \n",
       "15350        4.40          5.76                    0.3         62.96  \n",
       "10302       11.71          5.76                    0.3         70.27  \n",
       "2592         0.00          5.76                    0.3         63.06  "
      ]
     },
     "execution_count": 2,
     "metadata": {},
     "output_type": "execute_result"
    }
   ],
   "source": [
    "df_sort = df.sort_values(by=['trip_distance'],ascending=False)\n",
    "df_sort.head(10)"
   ]
  },
  {
   "cell_type": "markdown",
   "id": "127ccf75",
   "metadata": {},
   "source": [
    "Sort the data by total amount and print the top 20 values."
   ]
  },
  {
   "cell_type": "code",
   "execution_count": 3,
   "id": "05c7ceee",
   "metadata": {},
   "outputs": [
    {
     "data": {
      "text/plain": [
       "8476     1200.29\n",
       "20312     450.30\n",
       "13861     258.21\n",
       "12511     233.74\n",
       "15474     211.80\n",
       "6064      179.06\n",
       "16379     157.06\n",
       "3582      152.30\n",
       "11269     151.82\n",
       "9280      150.30\n",
       "1928      137.80\n",
       "10291     131.80\n",
       "6708      126.00\n",
       "11608     123.30\n",
       "908       121.56\n",
       "7281      120.96\n",
       "18130     119.31\n",
       "13621     115.94\n",
       "13359     111.95\n",
       "29        111.38\n",
       "Name: total_amount, dtype: float64"
      ]
     },
     "execution_count": 3,
     "metadata": {},
     "output_type": "execute_result"
    }
   ],
   "source": [
    "total_amount_sorted = df.sort_values(\n",
    "    ['total_amount'], ascending=False)['total_amount']\n",
    "total_amount_sorted.head(20)"
   ]
  },
  {
   "cell_type": "markdown",
   "id": "53a6000d",
   "metadata": {},
   "source": [
    "Sort the data by total amount and print the bottom 20 values."
   ]
  },
  {
   "cell_type": "code",
   "execution_count": 4,
   "id": "af32a899",
   "metadata": {},
   "outputs": [
    {
     "data": {
      "text/plain": [
       "14283      0.31\n",
       "19067      0.30\n",
       "10506      0.00\n",
       "5722       0.00\n",
       "4402       0.00\n",
       "22566      0.00\n",
       "1646      -3.30\n",
       "18565     -3.80\n",
       "314       -3.80\n",
       "5758      -3.80\n",
       "5448      -4.30\n",
       "4423      -4.30\n",
       "10281     -4.30\n",
       "8204      -4.80\n",
       "20317     -4.80\n",
       "11204     -5.30\n",
       "14714     -5.30\n",
       "17602     -5.80\n",
       "20698     -5.80\n",
       "12944   -120.30\n",
       "Name: total_amount, dtype: float64"
      ]
     },
     "execution_count": 4,
     "metadata": {},
     "output_type": "execute_result"
    }
   ],
   "source": [
    "total_amount_sorted.tail(20)"
   ]
  },
  {
   "cell_type": "markdown",
   "id": "188827ec",
   "metadata": {},
   "source": [
    "How many of each payment type are represented in the data?"
   ]
  },
  {
   "cell_type": "code",
   "execution_count": 5,
   "id": "dc5b1fd8",
   "metadata": {},
   "outputs": [
    {
     "data": {
      "text/plain": [
       "payment_type\n",
       "1    15265\n",
       "2     7267\n",
       "3      121\n",
       "4       46\n",
       "Name: count, dtype: int64"
      ]
     },
     "execution_count": 5,
     "metadata": {},
     "output_type": "execute_result"
    }
   ],
   "source": [
    "df['payment_type'].value_counts()"
   ]
  },
  {
   "cell_type": "markdown",
   "id": "d60eb2a7",
   "metadata": {},
   "source": [
    "What is the average tip for trips paid for with credit card?"
   ]
  },
  {
   "cell_type": "code",
   "execution_count": 6,
   "id": "ba0f794c",
   "metadata": {},
   "outputs": [
    {
     "name": "stdout",
     "output_type": "stream",
     "text": [
      "Avg. cc tip: 2.7298001965280054\n"
     ]
    }
   ],
   "source": [
    "avg_cc_tip = df[df['payment_type']==1]['tip_amount'].mean()\n",
    "print('Avg. cc tip:', avg_cc_tip)"
   ]
  },
  {
   "cell_type": "markdown",
   "id": "5dd06c54",
   "metadata": {},
   "source": [
    "What is the average tip for trips paid for with cash?"
   ]
  },
  {
   "cell_type": "code",
   "execution_count": 7,
   "id": "6246ab9d",
   "metadata": {},
   "outputs": [
    {
     "name": "stdout",
     "output_type": "stream",
     "text": [
      "Avg. cash tip: 0.0\n"
     ]
    }
   ],
   "source": [
    "avg_cash_tip = df[df['payment_type']==2]['tip_amount'].mean()\n",
    "print('Avg. cash tip:', avg_cash_tip)"
   ]
  },
  {
   "cell_type": "markdown",
   "id": "ddbdcc7a",
   "metadata": {},
   "source": [
    "How many times is each vendor ID represented in the data?"
   ]
  },
  {
   "cell_type": "code",
   "execution_count": 8,
   "id": "8017da9b",
   "metadata": {},
   "outputs": [
    {
     "data": {
      "text/plain": [
       "VendorID\n",
       "2    12626\n",
       "1    10073\n",
       "Name: count, dtype: int64"
      ]
     },
     "execution_count": 8,
     "metadata": {},
     "output_type": "execute_result"
    }
   ],
   "source": [
    "df['VendorID'].value_counts()"
   ]
  },
  {
   "cell_type": "markdown",
   "id": "8e34df3b",
   "metadata": {},
   "source": [
    "What is the mean total amount for each vendor?"
   ]
  },
  {
   "cell_type": "code",
   "execution_count": 9,
   "id": "ddc79c91",
   "metadata": {},
   "outputs": [
    {
     "data": {
      "text/html": [
       "<div>\n",
       "<style scoped>\n",
       "    .dataframe tbody tr th:only-of-type {\n",
       "        vertical-align: middle;\n",
       "    }\n",
       "\n",
       "    .dataframe tbody tr th {\n",
       "        vertical-align: top;\n",
       "    }\n",
       "\n",
       "    .dataframe thead th {\n",
       "        text-align: right;\n",
       "    }\n",
       "</style>\n",
       "<table border=\"1\" class=\"dataframe\">\n",
       "  <thead>\n",
       "    <tr style=\"text-align: right;\">\n",
       "      <th></th>\n",
       "      <th>total_amount</th>\n",
       "    </tr>\n",
       "    <tr>\n",
       "      <th>VendorID</th>\n",
       "      <th></th>\n",
       "    </tr>\n",
       "  </thead>\n",
       "  <tbody>\n",
       "    <tr>\n",
       "      <th>1</th>\n",
       "      <td>16.298119</td>\n",
       "    </tr>\n",
       "    <tr>\n",
       "      <th>2</th>\n",
       "      <td>16.320382</td>\n",
       "    </tr>\n",
       "  </tbody>\n",
       "</table>\n",
       "</div>"
      ],
      "text/plain": [
       "          total_amount\n",
       "VendorID              \n",
       "1            16.298119\n",
       "2            16.320382"
      ]
     },
     "execution_count": 9,
     "metadata": {},
     "output_type": "execute_result"
    }
   ],
   "source": [
    "df.groupby(['VendorID']).mean(numeric_only=True)[['total_amount']]"
   ]
  },
  {
   "cell_type": "markdown",
   "id": "8a626271",
   "metadata": {},
   "source": [
    "Filter the data for credit card payments only"
   ]
  },
  {
   "cell_type": "code",
   "execution_count": 12,
   "id": "09d4e4b4",
   "metadata": {},
   "outputs": [],
   "source": [
    "credit_card = df[df['payment_type']==1]"
   ]
  },
  {
   "cell_type": "markdown",
   "id": "3da6be06",
   "metadata": {},
   "source": [
    "Filter the credit-card-only data for passenger count only"
   ]
  },
  {
   "cell_type": "code",
   "execution_count": 11,
   "id": "52373418",
   "metadata": {},
   "outputs": [
    {
     "data": {
      "text/plain": [
       "passenger_count\n",
       "1    10977\n",
       "2     2168\n",
       "5      775\n",
       "3      600\n",
       "6      451\n",
       "4      267\n",
       "0       27\n",
       "Name: count, dtype: int64"
      ]
     },
     "execution_count": 11,
     "metadata": {},
     "output_type": "execute_result"
    }
   ],
   "source": [
    "credit_card['passenger_count'].value_counts()"
   ]
  },
  {
   "cell_type": "markdown",
   "id": "46a9ec81",
   "metadata": {},
   "source": [
    "Calculate the average tip amount for each passenger count (credit card payments only)"
   ]
  },
  {
   "cell_type": "code",
   "execution_count": 13,
   "id": "1d9de022",
   "metadata": {},
   "outputs": [
    {
     "data": {
      "text/html": [
       "<div>\n",
       "<style scoped>\n",
       "    .dataframe tbody tr th:only-of-type {\n",
       "        vertical-align: middle;\n",
       "    }\n",
       "\n",
       "    .dataframe tbody tr th {\n",
       "        vertical-align: top;\n",
       "    }\n",
       "\n",
       "    .dataframe thead th {\n",
       "        text-align: right;\n",
       "    }\n",
       "</style>\n",
       "<table border=\"1\" class=\"dataframe\">\n",
       "  <thead>\n",
       "    <tr style=\"text-align: right;\">\n",
       "      <th></th>\n",
       "      <th>tip_amount</th>\n",
       "    </tr>\n",
       "    <tr>\n",
       "      <th>passenger_count</th>\n",
       "      <th></th>\n",
       "    </tr>\n",
       "  </thead>\n",
       "  <tbody>\n",
       "    <tr>\n",
       "      <th>0</th>\n",
       "      <td>2.610370</td>\n",
       "    </tr>\n",
       "    <tr>\n",
       "      <th>1</th>\n",
       "      <td>2.714681</td>\n",
       "    </tr>\n",
       "    <tr>\n",
       "      <th>2</th>\n",
       "      <td>2.829949</td>\n",
       "    </tr>\n",
       "    <tr>\n",
       "      <th>3</th>\n",
       "      <td>2.726800</td>\n",
       "    </tr>\n",
       "    <tr>\n",
       "      <th>4</th>\n",
       "      <td>2.607753</td>\n",
       "    </tr>\n",
       "    <tr>\n",
       "      <th>5</th>\n",
       "      <td>2.762645</td>\n",
       "    </tr>\n",
       "    <tr>\n",
       "      <th>6</th>\n",
       "      <td>2.643326</td>\n",
       "    </tr>\n",
       "  </tbody>\n",
       "</table>\n",
       "</div>"
      ],
      "text/plain": [
       "                 tip_amount\n",
       "passenger_count            \n",
       "0                  2.610370\n",
       "1                  2.714681\n",
       "2                  2.829949\n",
       "3                  2.726800\n",
       "4                  2.607753\n",
       "5                  2.762645\n",
       "6                  2.643326"
      ]
     },
     "execution_count": 13,
     "metadata": {},
     "output_type": "execute_result"
    }
   ],
   "source": [
    "credit_card.groupby(['passenger_count']).mean(numeric_only=True)[['tip_amount']]"
   ]
  }
 ],
 "metadata": {
  "kernelspec": {
   "display_name": "Python 3 (ipykernel)",
   "language": "python",
   "name": "python3"
  },
  "language_info": {
   "codemirror_mode": {
    "name": "ipython",
    "version": 3
   },
   "file_extension": ".py",
   "mimetype": "text/x-python",
   "name": "python",
   "nbconvert_exporter": "python",
   "pygments_lexer": "ipython3",
   "version": "3.11.5"
  }
 },
 "nbformat": 4,
 "nbformat_minor": 5
}
